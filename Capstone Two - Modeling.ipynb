{
 "cells": [
  {
   "cell_type": "code",
   "execution_count": 1,
   "id": "b395024d",
   "metadata": {},
   "outputs": [],
   "source": [
    "import numpy as np \n",
    "import pandas as pd \n",
    "import matplotlib.pyplot as plt \n",
    "import seaborn as sns\n",
    "from scipy.stats import t\n",
    "from sklearn.model_selection import train_test_split\n",
    "from sklearn import linear_model, preprocessing\n",
    "import statsmodels.api as sm\n",
    "from sklearn.preprocessing import StandardScaler\n",
    "from sklearn.model_selection import train_test_split\n",
    "from sklearn.model_selection import cross_val_score, KFold\n",
    "from sklearn.linear_model import LogisticRegression, Ridge, Lasso\n",
    "from sklearn.model_selection import GridSearchCV, RandomizedSearchCV\n",
    "from sklearn.metrics import accuracy_score\n",
    "from sklearn.ensemble import RandomForestRegressor\n",
    "from sklearn.svm import SVR"
   ]
  },
  {
   "cell_type": "code",
   "execution_count": 2,
   "id": "66a21d4b",
   "metadata": {},
   "outputs": [],
   "source": [
    "data = pd.read_csv(\"T1.csv\")"
   ]
  },
  {
   "cell_type": "code",
   "execution_count": 3,
   "id": "7ffa136c",
   "metadata": {},
   "outputs": [
    {
     "data": {
      "text/html": [
       "<div>\n",
       "<style scoped>\n",
       "    .dataframe tbody tr th:only-of-type {\n",
       "        vertical-align: middle;\n",
       "    }\n",
       "\n",
       "    .dataframe tbody tr th {\n",
       "        vertical-align: top;\n",
       "    }\n",
       "\n",
       "    .dataframe thead th {\n",
       "        text-align: right;\n",
       "    }\n",
       "</style>\n",
       "<table border=\"1\" class=\"dataframe\">\n",
       "  <thead>\n",
       "    <tr style=\"text-align: right;\">\n",
       "      <th></th>\n",
       "      <th>Date/Time</th>\n",
       "      <th>LV ActivePower (kW)</th>\n",
       "      <th>Wind Speed (m/s)</th>\n",
       "      <th>Theoretical_Power_Curve (KWh)</th>\n",
       "      <th>Wind Direction (°)</th>\n",
       "    </tr>\n",
       "  </thead>\n",
       "  <tbody>\n",
       "    <tr>\n",
       "      <th>0</th>\n",
       "      <td>01 01 2018 00:00</td>\n",
       "      <td>380.047791</td>\n",
       "      <td>5.311336</td>\n",
       "      <td>416.328908</td>\n",
       "      <td>259.994904</td>\n",
       "    </tr>\n",
       "    <tr>\n",
       "      <th>1</th>\n",
       "      <td>01 01 2018 00:10</td>\n",
       "      <td>453.769196</td>\n",
       "      <td>5.672167</td>\n",
       "      <td>519.917511</td>\n",
       "      <td>268.641113</td>\n",
       "    </tr>\n",
       "    <tr>\n",
       "      <th>2</th>\n",
       "      <td>01 01 2018 00:20</td>\n",
       "      <td>306.376587</td>\n",
       "      <td>5.216037</td>\n",
       "      <td>390.900016</td>\n",
       "      <td>272.564789</td>\n",
       "    </tr>\n",
       "    <tr>\n",
       "      <th>3</th>\n",
       "      <td>01 01 2018 00:30</td>\n",
       "      <td>419.645904</td>\n",
       "      <td>5.659674</td>\n",
       "      <td>516.127569</td>\n",
       "      <td>271.258087</td>\n",
       "    </tr>\n",
       "    <tr>\n",
       "      <th>4</th>\n",
       "      <td>01 01 2018 00:40</td>\n",
       "      <td>380.650696</td>\n",
       "      <td>5.577941</td>\n",
       "      <td>491.702972</td>\n",
       "      <td>265.674286</td>\n",
       "    </tr>\n",
       "  </tbody>\n",
       "</table>\n",
       "</div>"
      ],
      "text/plain": [
       "          Date/Time  LV ActivePower (kW)  Wind Speed (m/s)  \\\n",
       "0  01 01 2018 00:00           380.047791          5.311336   \n",
       "1  01 01 2018 00:10           453.769196          5.672167   \n",
       "2  01 01 2018 00:20           306.376587          5.216037   \n",
       "3  01 01 2018 00:30           419.645904          5.659674   \n",
       "4  01 01 2018 00:40           380.650696          5.577941   \n",
       "\n",
       "   Theoretical_Power_Curve (KWh)  Wind Direction (°)  \n",
       "0                     416.328908          259.994904  \n",
       "1                     519.917511          268.641113  \n",
       "2                     390.900016          272.564789  \n",
       "3                     516.127569          271.258087  \n",
       "4                     491.702972          265.674286  "
      ]
     },
     "execution_count": 3,
     "metadata": {},
     "output_type": "execute_result"
    }
   ],
   "source": [
    "data.head()"
   ]
  },
  {
   "cell_type": "code",
   "execution_count": 4,
   "id": "1f830d1f",
   "metadata": {},
   "outputs": [],
   "source": [
    "#data = data[(data[\"Wind Speed (m/s)\"] >= 0) & (data[\"LV ActivePower (kW)\"] >= 0) & (data[\"Theoretical_Power_Curve (KWh)\"]>=0) & (data[\"Wind Direction (°)\"]>=0)]\n",
    "\n",
    "# In this part we get rid of the values which under 0 because all the data must be greater than 0 or equal to 0"
   ]
  },
  {
   "cell_type": "code",
   "execution_count": 5,
   "id": "438969d6",
   "metadata": {},
   "outputs": [
    {
     "name": "stdout",
     "output_type": "stream",
     "text": [
      "0   2018-01-01 00:00:00\n",
      "1   2018-01-01 00:10:00\n",
      "2   2018-01-01 00:20:00\n",
      "3   2018-01-01 00:30:00\n",
      "4   2018-01-01 00:40:00\n",
      "Name: Date/Time, dtype: datetime64[ns]\n"
     ]
    }
   ],
   "source": [
    "\n",
    "data['Date/Time'] = pd.to_datetime(data['Date/Time'])\n",
    "\n",
    "\n",
    "print(data['Date/Time'].head())\n",
    "\n",
    "# Extract month, day of the week, and year\n",
    "data['Month'] = data['Date/Time'].dt.month\n",
    "data['DayOfWeek'] = data['Date/Time'].dt.dayofweek\n",
    "data['Year'] = data['Date/Time'].dt.year\n",
    "data.drop(columns=['Date/Time'], inplace=True)\n"
   ]
  },
  {
   "cell_type": "code",
   "execution_count": 6,
   "id": "1086ddc3",
   "metadata": {},
   "outputs": [
    {
     "name": "stdout",
     "output_type": "stream",
     "text": [
      "   LV ActivePower (kW)  Wind Speed (m/s)  Theoretical_Power_Curve (KWh)  \\\n",
      "0            -0.706800         -0.531476                      -0.786435   \n",
      "1            -0.650629         -0.446115                      -0.710712   \n",
      "2            -0.762932         -0.554021                      -0.805023   \n",
      "3            -0.676628         -0.449071                      -0.713483   \n",
      "4            -0.706340         -0.468406                      -0.731337   \n",
      "\n",
      "   Wind Direction (°)     Month  DayOfWeek  Year  \n",
      "0            1.458725 -1.639044  -1.488416   0.0  \n",
      "1            1.551254 -1.639044  -1.488416   0.0  \n",
      "2            1.593244 -1.639044  -1.488416   0.0  \n",
      "3            1.579260 -1.639044  -1.488416   0.0  \n",
      "4            1.519504 -1.639044  -1.488416   0.0  \n"
     ]
    }
   ],
   "source": [
    "scaler = StandardScaler()\n",
    "\n",
    "scaled_features = scaler.fit_transform(data)\n",
    "\n",
    "scaled_data = pd.DataFrame(scaled_features,columns=data.columns)\n",
    "\n",
    "print(scaled_data.head())\n"
   ]
  },
  {
   "cell_type": "markdown",
   "id": "387491bf",
   "metadata": {},
   "source": [
    "# LinearRegression"
   ]
  },
  {
   "cell_type": "code",
   "execution_count": 7,
   "id": "7909a913",
   "metadata": {},
   "outputs": [
    {
     "name": "stdout",
     "output_type": "stream",
     "text": [
      "Accuracy: 0.9086782213482326\n",
      "****************************************************************************************************\n",
      "[0.90213618 0.91150906 0.92008136 0.90833396 0.90648164 0.90307607]\n",
      "Mean cross validation test score:  0.9086030443199796\n"
     ]
    }
   ],
   "source": [
    "from sklearn.linear_model import LinearRegression\n",
    "\n",
    "X = scaled_data.drop([\"LV ActivePower (kW)\"],axis=1)\n",
    "y = scaled_data[[\"LV ActivePower (kW)\"]]\n",
    "# Split the data\n",
    "X_train, X_test, y_train, y_test = train_test_split(X, y, test_size = 0.20, random_state = 123)\n",
    "\n",
    "# Initialize a linear regression model\n",
    "lin_reg = LinearRegression()\n",
    "\n",
    "# Fit the model to the training data\n",
    "lin_reg.fit(X_train, y_train)\n",
    "\n",
    "# Predict on the test data\n",
    "y_pred = lin_reg.predict(X_test)\n",
    "\n",
    "Accuracy_linear = lin_reg.score(X_test, y_test)\n",
    "print(\"Accuracy:\",Accuracy_linear)\n",
    "\n",
    "print(100*\"*\")\n",
    "\n",
    "kf = KFold(n_splits=6, shuffle=True, random_state=42)\n",
    "\n",
    "cv_results = cross_val_score(lin_reg,X_test,y_test,cv=kf)\n",
    "print(cv_results)\n",
    "\n",
    "print('Mean cross validation test score: ', np.mean(cv_results))\n"
   ]
  },
  {
   "cell_type": "markdown",
   "id": "e2a950de",
   "metadata": {},
   "source": [
    "The R^2 score of approximately 0.906 indicates that the linear regression model explains about 90.6% of the variance in the target variable on the test data."
   ]
  },
  {
   "cell_type": "markdown",
   "id": "112bd023",
   "metadata": {},
   "source": [
    "# Making a Linear Regression model: our second model: Ordinary Least Squares (OLS)"
   ]
  },
  {
   "cell_type": "code",
   "execution_count": 8,
   "id": "ce32ada2",
   "metadata": {},
   "outputs": [
    {
     "name": "stderr",
     "output_type": "stream",
     "text": [
      "C:\\Users\\16088\\anaconda3\\lib\\site-packages\\statsmodels\\regression\\linear_model.py:1965: RuntimeWarning: divide by zero encountered in scalar divide\n",
      "  return np.sqrt(eigvals[0]/eigvals[-1])\n"
     ]
    },
    {
     "data": {
      "text/html": [
       "<table class=\"simpletable\">\n",
       "<caption>OLS Regression Results</caption>\n",
       "<tr>\n",
       "  <th>Dep. Variable:</th>    <td>LV ActivePower (kW)</td> <th>  R-squared:         </th> <td>   0.907</td> \n",
       "</tr>\n",
       "<tr>\n",
       "  <th>Model:</th>                    <td>OLS</td>         <th>  Adj. R-squared:    </th> <td>   0.907</td> \n",
       "</tr>\n",
       "<tr>\n",
       "  <th>Method:</th>              <td>Least Squares</td>    <th>  F-statistic:       </th> <td>7.895e+04</td>\n",
       "</tr>\n",
       "<tr>\n",
       "  <th>Date:</th>              <td>Sat, 20 Apr 2024</td>   <th>  Prob (F-statistic):</th>  <td>  0.00</td>  \n",
       "</tr>\n",
       "<tr>\n",
       "  <th>Time:</th>                  <td>16:59:16</td>       <th>  Log-Likelihood:    </th> <td> -9329.5</td> \n",
       "</tr>\n",
       "<tr>\n",
       "  <th>No. Observations:</th>       <td> 40424</td>        <th>  AIC:               </th> <td>1.867e+04</td>\n",
       "</tr>\n",
       "<tr>\n",
       "  <th>Df Residuals:</th>           <td> 40418</td>        <th>  BIC:               </th> <td>1.872e+04</td>\n",
       "</tr>\n",
       "<tr>\n",
       "  <th>Df Model:</th>               <td>     5</td>        <th>                     </th>     <td> </td>    \n",
       "</tr>\n",
       "<tr>\n",
       "  <th>Covariance Type:</th>       <td>nonrobust</td>      <th>                     </th>     <td> </td>    \n",
       "</tr>\n",
       "</table>\n",
       "<table class=\"simpletable\">\n",
       "<tr>\n",
       "                <td></td>                   <th>coef</th>     <th>std err</th>      <th>t</th>      <th>P>|t|</th>  <th>[0.025</th>    <th>0.975]</th>  \n",
       "</tr>\n",
       "<tr>\n",
       "  <th>const</th>                         <td>    0.0003</td> <td>    0.002</td> <td>    0.219</td> <td> 0.827</td> <td>   -0.003</td> <td>    0.003</td>\n",
       "</tr>\n",
       "<tr>\n",
       "  <th>Wind Speed (m/s)</th>              <td>    0.1508</td> <td>    0.005</td> <td>   32.714</td> <td> 0.000</td> <td>    0.142</td> <td>    0.160</td>\n",
       "</tr>\n",
       "<tr>\n",
       "  <th>Theoretical_Power_Curve (KWh)</th> <td>    0.8126</td> <td>    0.005</td> <td>  175.764</td> <td> 0.000</td> <td>    0.804</td> <td>    0.822</td>\n",
       "</tr>\n",
       "<tr>\n",
       "  <th>Wind Direction (°)</th>            <td>    0.0307</td> <td>    0.002</td> <td>   20.150</td> <td> 0.000</td> <td>    0.028</td> <td>    0.034</td>\n",
       "</tr>\n",
       "<tr>\n",
       "  <th>Month</th>                         <td>    0.0447</td> <td>    0.002</td> <td>   29.358</td> <td> 0.000</td> <td>    0.042</td> <td>    0.048</td>\n",
       "</tr>\n",
       "<tr>\n",
       "  <th>DayOfWeek</th>                     <td>    0.0038</td> <td>    0.002</td> <td>    2.509</td> <td> 0.012</td> <td>    0.001</td> <td>    0.007</td>\n",
       "</tr>\n",
       "<tr>\n",
       "  <th>Year</th>                          <td>         0</td> <td>        0</td> <td>      nan</td> <td>   nan</td> <td>        0</td> <td>        0</td>\n",
       "</tr>\n",
       "</table>\n",
       "<table class=\"simpletable\">\n",
       "<tr>\n",
       "  <th>Omnibus:</th>       <td>37760.907</td> <th>  Durbin-Watson:     </th>  <td>   2.002</td>  \n",
       "</tr>\n",
       "<tr>\n",
       "  <th>Prob(Omnibus):</th>  <td> 0.000</td>   <th>  Jarque-Bera (JB):  </th> <td>1384251.290</td>\n",
       "</tr>\n",
       "<tr>\n",
       "  <th>Skew:</th>           <td>-4.640</td>   <th>  Prob(JB):          </th>  <td>    0.00</td>  \n",
       "</tr>\n",
       "<tr>\n",
       "  <th>Kurtosis:</th>       <td>30.124</td>   <th>  Cond. No.          </th>  <td>     inf</td>  \n",
       "</tr>\n",
       "</table><br/><br/>Notes:<br/>[1] Standard Errors assume that the covariance matrix of the errors is correctly specified.<br/>[2] The smallest eigenvalue is      0. This might indicate that there are<br/>strong multicollinearity problems or that the design matrix is singular."
      ],
      "text/latex": [
       "\\begin{center}\n",
       "\\begin{tabular}{lclc}\n",
       "\\toprule\n",
       "\\textbf{Dep. Variable:}                  & LV ActivePower (kW) & \\textbf{  R-squared:         } &      0.907   \\\\\n",
       "\\textbf{Model:}                          &         OLS         & \\textbf{  Adj. R-squared:    } &      0.907   \\\\\n",
       "\\textbf{Method:}                         &    Least Squares    & \\textbf{  F-statistic:       } &  7.895e+04   \\\\\n",
       "\\textbf{Date:}                           &   Sat, 20 Apr 2024  & \\textbf{  Prob (F-statistic):} &      0.00    \\\\\n",
       "\\textbf{Time:}                           &       16:59:16      & \\textbf{  Log-Likelihood:    } &    -9329.5   \\\\\n",
       "\\textbf{No. Observations:}               &         40424       & \\textbf{  AIC:               } &  1.867e+04   \\\\\n",
       "\\textbf{Df Residuals:}                   &         40418       & \\textbf{  BIC:               } &  1.872e+04   \\\\\n",
       "\\textbf{Df Model:}                       &             5       & \\textbf{                     } &              \\\\\n",
       "\\textbf{Covariance Type:}                &      nonrobust      & \\textbf{                     } &              \\\\\n",
       "\\bottomrule\n",
       "\\end{tabular}\n",
       "\\begin{tabular}{lcccccc}\n",
       "                                         & \\textbf{coef} & \\textbf{std err} & \\textbf{t} & \\textbf{P$> |$t$|$} & \\textbf{[0.025} & \\textbf{0.975]}  \\\\\n",
       "\\midrule\n",
       "\\textbf{const}                           &       0.0003  &        0.002     &     0.219  &         0.827        &       -0.003    &        0.003     \\\\\n",
       "\\textbf{Wind Speed (m/s)}                &       0.1508  &        0.005     &    32.714  &         0.000        &        0.142    &        0.160     \\\\\n",
       "\\textbf{Theoretical\\_Power\\_Curve (KWh)} &       0.8126  &        0.005     &   175.764  &         0.000        &        0.804    &        0.822     \\\\\n",
       "\\textbf{Wind Direction (°)}              &       0.0307  &        0.002     &    20.150  &         0.000        &        0.028    &        0.034     \\\\\n",
       "\\textbf{Month}                           &       0.0447  &        0.002     &    29.358  &         0.000        &        0.042    &        0.048     \\\\\n",
       "\\textbf{DayOfWeek}                       &       0.0038  &        0.002     &     2.509  &         0.012        &        0.001    &        0.007     \\\\\n",
       "\\textbf{Year}                            &            0  &            0     &       nan  &           nan        &            0    &            0     \\\\\n",
       "\\bottomrule\n",
       "\\end{tabular}\n",
       "\\begin{tabular}{lclc}\n",
       "\\textbf{Omnibus:}       & 37760.907 & \\textbf{  Durbin-Watson:     } &      2.002   \\\\\n",
       "\\textbf{Prob(Omnibus):} &    0.000  & \\textbf{  Jarque-Bera (JB):  } & 1384251.290  \\\\\n",
       "\\textbf{Skew:}          &   -4.640  & \\textbf{  Prob(JB):          } &       0.00   \\\\\n",
       "\\textbf{Kurtosis:}      &   30.124  & \\textbf{  Cond. No.          } &        inf   \\\\\n",
       "\\bottomrule\n",
       "\\end{tabular}\n",
       "%\\caption{OLS Regression Results}\n",
       "\\end{center}\n",
       "\n",
       "Notes: \\newline\n",
       " [1] Standard Errors assume that the covariance matrix of the errors is correctly specified. \\newline\n",
       " [2] The smallest eigenvalue is      0. This might indicate that there are \\newline\n",
       " strong multicollinearity problems or that the design matrix is singular."
      ],
      "text/plain": [
       "<class 'statsmodels.iolib.summary.Summary'>\n",
       "\"\"\"\n",
       "                             OLS Regression Results                            \n",
       "===============================================================================\n",
       "Dep. Variable:     LV ActivePower (kW)   R-squared:                       0.907\n",
       "Model:                             OLS   Adj. R-squared:                  0.907\n",
       "Method:                  Least Squares   F-statistic:                 7.895e+04\n",
       "Date:                 Sat, 20 Apr 2024   Prob (F-statistic):               0.00\n",
       "Time:                         16:59:16   Log-Likelihood:                -9329.5\n",
       "No. Observations:                40424   AIC:                         1.867e+04\n",
       "Df Residuals:                    40418   BIC:                         1.872e+04\n",
       "Df Model:                            5                                         \n",
       "Covariance Type:             nonrobust                                         \n",
       "=================================================================================================\n",
       "                                    coef    std err          t      P>|t|      [0.025      0.975]\n",
       "-------------------------------------------------------------------------------------------------\n",
       "const                             0.0003      0.002      0.219      0.827      -0.003       0.003\n",
       "Wind Speed (m/s)                  0.1508      0.005     32.714      0.000       0.142       0.160\n",
       "Theoretical_Power_Curve (KWh)     0.8126      0.005    175.764      0.000       0.804       0.822\n",
       "Wind Direction (°)                0.0307      0.002     20.150      0.000       0.028       0.034\n",
       "Month                             0.0447      0.002     29.358      0.000       0.042       0.048\n",
       "DayOfWeek                         0.0038      0.002      2.509      0.012       0.001       0.007\n",
       "Year                                   0          0        nan        nan           0           0\n",
       "==============================================================================\n",
       "Omnibus:                    37760.907   Durbin-Watson:                   2.002\n",
       "Prob(Omnibus):                  0.000   Jarque-Bera (JB):          1384251.290\n",
       "Skew:                          -4.640   Prob(JB):                         0.00\n",
       "Kurtosis:                      30.124   Cond. No.                          inf\n",
       "==============================================================================\n",
       "\n",
       "Notes:\n",
       "[1] Standard Errors assume that the covariance matrix of the errors is correctly specified.\n",
       "[2] The smallest eigenvalue is      0. This might indicate that there are\n",
       "strong multicollinearity problems or that the design matrix is singular.\n",
       "\"\"\""
      ]
     },
     "execution_count": 8,
     "metadata": {},
     "output_type": "execute_result"
    }
   ],
   "source": [
    "X = scaled_data.drop([\"LV ActivePower (kW)\"],axis=1)\n",
    "X = sm.add_constant(X)\n",
    "y = scaled_data[[\"LV ActivePower (kW)\"]]\n",
    "\n",
    "\n",
    "# Split the data\n",
    "X_train, X_test, y_train, y_test = train_test_split(X, y, test_size = 0.20, random_state = 123)\n",
    "\n",
    "rModel = sm.OLS(y_train, X_train)\n",
    "# Fit the model\n",
    "rModel_results = rModel.fit()\n",
    "# Evaluate the model\n",
    "rModel_results.summary()"
   ]
  },
  {
   "cell_type": "markdown",
   "id": "48adcbac",
   "metadata": {},
   "source": [
    "# Random Forests"
   ]
  },
  {
   "cell_type": "code",
   "execution_count": 9,
   "id": "c9f7d5bc",
   "metadata": {},
   "outputs": [
    {
     "name": "stderr",
     "output_type": "stream",
     "text": [
      "C:\\Users\\16088\\anaconda3\\lib\\site-packages\\sklearn\\base.py:1151: DataConversionWarning: A column-vector y was passed when a 1d array was expected. Please change the shape of y to (n_samples,), for example using ravel().\n",
      "  return fit_method(estimator, *args, **kwargs)\n"
     ]
    },
    {
     "name": "stdout",
     "output_type": "stream",
     "text": [
      "Accuracy: 0.9573823560338305\n",
      "****************************************************************************************************\n"
     ]
    },
    {
     "name": "stderr",
     "output_type": "stream",
     "text": [
      "C:\\Users\\16088\\anaconda3\\lib\\site-packages\\sklearn\\base.py:1151: DataConversionWarning: A column-vector y was passed when a 1d array was expected. Please change the shape of y to (n_samples,), for example using ravel().\n",
      "  return fit_method(estimator, *args, **kwargs)\n",
      "C:\\Users\\16088\\anaconda3\\lib\\site-packages\\sklearn\\base.py:1151: DataConversionWarning: A column-vector y was passed when a 1d array was expected. Please change the shape of y to (n_samples,), for example using ravel().\n",
      "  return fit_method(estimator, *args, **kwargs)\n",
      "C:\\Users\\16088\\anaconda3\\lib\\site-packages\\sklearn\\base.py:1151: DataConversionWarning: A column-vector y was passed when a 1d array was expected. Please change the shape of y to (n_samples,), for example using ravel().\n",
      "  return fit_method(estimator, *args, **kwargs)\n",
      "C:\\Users\\16088\\anaconda3\\lib\\site-packages\\sklearn\\base.py:1151: DataConversionWarning: A column-vector y was passed when a 1d array was expected. Please change the shape of y to (n_samples,), for example using ravel().\n",
      "  return fit_method(estimator, *args, **kwargs)\n",
      "C:\\Users\\16088\\anaconda3\\lib\\site-packages\\sklearn\\base.py:1151: DataConversionWarning: A column-vector y was passed when a 1d array was expected. Please change the shape of y to (n_samples,), for example using ravel().\n",
      "  return fit_method(estimator, *args, **kwargs)\n",
      "C:\\Users\\16088\\anaconda3\\lib\\site-packages\\sklearn\\base.py:1151: DataConversionWarning: A column-vector y was passed when a 1d array was expected. Please change the shape of y to (n_samples,), for example using ravel().\n",
      "  return fit_method(estimator, *args, **kwargs)\n"
     ]
    },
    {
     "name": "stdout",
     "output_type": "stream",
     "text": [
      "[0.9365767  0.94255286 0.95314587 0.94948386 0.93678536 0.94210655]\n",
      "Mean cross validation test score:  0.9434418676223523\n"
     ]
    }
   ],
   "source": [
    "\n",
    "\n",
    "X = scaled_data.drop([\"LV ActivePower (kW)\"],axis=1)\n",
    "\n",
    "y = scaled_data[[\"LV ActivePower (kW)\"]]\n",
    "\n",
    "\n",
    "# Split the data\n",
    "X_train, X_test, y_train, y_test = train_test_split(X, y, test_size = 0.20, random_state = 123)\n",
    "\n",
    "\n",
    "# Initialize Random Forest Regressor model\n",
    "rf_reg = RandomForestRegressor()\n",
    "rf_reg.fit(X_train, y_train)\n",
    "y_pred_rf_reg = rf_reg.predict(X_test)\n",
    "\n",
    "Accuracy_random = rf_reg.score(X_test, y_test)\n",
    "\n",
    "print(\"Accuracy:\",Accuracy_random)\n",
    "\n",
    "print(100*\"*\")\n",
    "kf = KFold(n_splits=6, shuffle=True, random_state=42)\n",
    "\n",
    "cv_results = cross_val_score(rf_reg,X_test,y_test,cv=kf)\n",
    "print(cv_results)\n",
    "\n",
    "print('Mean cross validation test score: ', np.mean(cv_results))"
   ]
  },
  {
   "cell_type": "markdown",
   "id": "578d1be8",
   "metadata": {},
   "source": [
    "# Support Vector Regression"
   ]
  },
  {
   "cell_type": "code",
   "execution_count": 10,
   "id": "8e7da579",
   "metadata": {},
   "outputs": [
    {
     "name": "stderr",
     "output_type": "stream",
     "text": [
      "C:\\Users\\16088\\anaconda3\\lib\\site-packages\\sklearn\\utils\\validation.py:1184: DataConversionWarning: A column-vector y was passed when a 1d array was expected. Please change the shape of y to (n_samples, ), for example using ravel().\n",
      "  y = column_or_1d(y, warn=True)\n"
     ]
    },
    {
     "name": "stdout",
     "output_type": "stream",
     "text": [
      "Accuracy: 0.9335456784721816\n",
      "****************************************************************************************************\n"
     ]
    },
    {
     "name": "stderr",
     "output_type": "stream",
     "text": [
      "C:\\Users\\16088\\anaconda3\\lib\\site-packages\\sklearn\\utils\\validation.py:1184: DataConversionWarning: A column-vector y was passed when a 1d array was expected. Please change the shape of y to (n_samples, ), for example using ravel().\n",
      "  y = column_or_1d(y, warn=True)\n",
      "C:\\Users\\16088\\anaconda3\\lib\\site-packages\\sklearn\\utils\\validation.py:1184: DataConversionWarning: A column-vector y was passed when a 1d array was expected. Please change the shape of y to (n_samples, ), for example using ravel().\n",
      "  y = column_or_1d(y, warn=True)\n",
      "C:\\Users\\16088\\anaconda3\\lib\\site-packages\\sklearn\\utils\\validation.py:1184: DataConversionWarning: A column-vector y was passed when a 1d array was expected. Please change the shape of y to (n_samples, ), for example using ravel().\n",
      "  y = column_or_1d(y, warn=True)\n",
      "C:\\Users\\16088\\anaconda3\\lib\\site-packages\\sklearn\\utils\\validation.py:1184: DataConversionWarning: A column-vector y was passed when a 1d array was expected. Please change the shape of y to (n_samples, ), for example using ravel().\n",
      "  y = column_or_1d(y, warn=True)\n",
      "C:\\Users\\16088\\anaconda3\\lib\\site-packages\\sklearn\\utils\\validation.py:1184: DataConversionWarning: A column-vector y was passed when a 1d array was expected. Please change the shape of y to (n_samples, ), for example using ravel().\n",
      "  y = column_or_1d(y, warn=True)\n",
      "C:\\Users\\16088\\anaconda3\\lib\\site-packages\\sklearn\\utils\\validation.py:1184: DataConversionWarning: A column-vector y was passed when a 1d array was expected. Please change the shape of y to (n_samples, ), for example using ravel().\n",
      "  y = column_or_1d(y, warn=True)\n"
     ]
    },
    {
     "name": "stdout",
     "output_type": "stream",
     "text": [
      "[0.9173281  0.92494261 0.94223489 0.9292242  0.92361598 0.91827003]\n",
      "Mean cross validation test score:  0.92593596746884\n"
     ]
    }
   ],
   "source": [
    "X = scaled_data.drop([\"LV ActivePower (kW)\"],axis=1)\n",
    "\n",
    "y = scaled_data[[\"LV ActivePower (kW)\"]]\n",
    "\n",
    "\n",
    "# Split the data\n",
    "X_train, X_test, y_train, y_test = train_test_split(X, y, test_size = 0.20, random_state = 123)\n",
    "\n",
    "# Initialize Support Vector Regressor model\n",
    "svr_reg = SVR()\n",
    "svr_reg.fit(X_train, y_train)\n",
    "\n",
    "y_pred_svr_reg = svr_reg.predict(X_test)\n",
    "\n",
    "Accuracy_support = svr_reg.score(X_test, y_test)\n",
    "\n",
    "print(\"Accuracy:\",Accuracy_support)\n",
    "\n",
    "print(100*\"*\")\n",
    "kf = KFold(n_splits=6, shuffle=True, random_state=42)\n",
    "\n",
    "cv_results = cross_val_score(svr_reg,X_test,y_test,cv=kf)\n",
    "print(cv_results)\n",
    "\n",
    "print('Mean cross validation test score: ', np.mean(cv_results))"
   ]
  },
  {
   "cell_type": "markdown",
   "id": "1f4e7e8d",
   "metadata": {},
   "source": [
    "# Ridge regression"
   ]
  },
  {
   "cell_type": "code",
   "execution_count": 11,
   "id": "31f91042",
   "metadata": {},
   "outputs": [
    {
     "name": "stdout",
     "output_type": "stream",
     "text": [
      "[0.9086782123213498, 0.9086781287623497, 0.9086770656922512, 0.9086454734123206, 0.9072762097978505]\n",
      "Max_score: 0.9086782123213498\n"
     ]
    }
   ],
   "source": [
    "X = scaled_data.drop([\"LV ActivePower (kW)\"],axis=1)\n",
    "\n",
    "y = scaled_data[[\"LV ActivePower (kW)\"]]\n",
    "\n",
    "\n",
    "# Split the data\n",
    "X_train, X_test, y_train, y_test = train_test_split(X, y, test_size = 0.20, random_state = 123)\n",
    "\n",
    "scores = []\n",
    "\n",
    "for i in [0.1, 1, 10, 100, 1000]:\n",
    "    \n",
    "    ridge = Ridge(alpha=i)\n",
    "    ridge.fit(X_train,y_train)\n",
    "    y_pred = ridge.predict(X_test)\n",
    "    scores.append(ridge.score(X_test,y_test))\n",
    "    \n",
    "print(scores)\n",
    "\n",
    "# if i = 1, we take the best result\n",
    "\n",
    "Accuracy_ridge = max(scores)\n",
    "\n",
    "print(\"Max_score:\",max(scores))\n"
   ]
  },
  {
   "cell_type": "markdown",
   "id": "627f43f6",
   "metadata": {},
   "source": [
    "# Lasso Regression"
   ]
  },
  {
   "cell_type": "code",
   "execution_count": 12,
   "id": "fe851939",
   "metadata": {},
   "outputs": [
    {
     "name": "stdout",
     "output_type": "stream",
     "text": [
      "[0.8954158279371367, -0.00021730563904931444, -0.00021730563904931444, -0.00021730563904931444, -0.00021730563904931444]\n",
      "Max_score: 0.8954158279371367\n"
     ]
    }
   ],
   "source": [
    "X = scaled_data.drop([\"LV ActivePower (kW)\"],axis=1)\n",
    "\n",
    "y = scaled_data[[\"LV ActivePower (kW)\"]]\n",
    "\n",
    "\n",
    "# Split the data\n",
    "X_train, X_test, y_train, y_test = train_test_split(X, y, test_size = 0.20, random_state = 123)\n",
    "\n",
    "scores = []\n",
    "\n",
    "for i in [0.1, 1, 10, 100, 1000]:\n",
    "    \n",
    "    lasso = Lasso(alpha=i)\n",
    "    lasso.fit(X_train,y_train)\n",
    "    y_pred = lasso.predict(X_test)\n",
    "    scores.append(lasso.score(X_test,y_test))\n",
    "print(scores)\n",
    "\n",
    "Accuracy_lasso = max(scores)\n",
    "\n",
    "print(\"Max_score:\",max(scores))"
   ]
  },
  {
   "cell_type": "markdown",
   "id": "b98d1d82",
   "metadata": {},
   "source": [
    "# 7.Comparison of the models"
   ]
  },
  {
   "cell_type": "code",
   "execution_count": 13,
   "id": "a6a5f8c4",
   "metadata": {},
   "outputs": [
    {
     "name": "stdout",
     "output_type": "stream",
     "text": [
      "                   Algorithm  Model accuracy score\n",
      "0           LinearRegression              0.908678\n",
      "1             Random Forests              0.957382\n",
      "2  Support Vector Regression              0.933546\n",
      "3           Ridge regression              0.908678\n",
      "4           Lasso Regression              0.895416\n"
     ]
    }
   ],
   "source": [
    "my_labels = [\"LinearRegression\",\"Random Forests\",\"Support Vector Regression\",\"Ridge regression\",\"Lasso Regression\"]\n",
    "Accuracy_score = [Accuracy_linear,Accuracy_random,Accuracy_support,Accuracy_ridge,Accuracy_lasso]\n",
    "\n",
    "score_tab_acc = pd.DataFrame(list(zip(my_labels, Accuracy_score)), \n",
    "               columns =['Algorithm', 'Model accuracy score']) \n",
    "print(score_tab_acc)"
   ]
  },
  {
   "cell_type": "code",
   "execution_count": 14,
   "id": "57d23d5e",
   "metadata": {},
   "outputs": [
    {
     "name": "stderr",
     "output_type": "stream",
     "text": [
      "C:\\Users\\16088\\AppData\\Local\\Temp\\ipykernel_19700\\2341945298.py:16: MatplotlibDeprecationWarning: Unable to determine Axes to steal space for Colorbar. Using gca(), but will raise in the future. Either provide the *cax* argument to use as the Axes for the Colorbar, provide the *ax* argument to steal space from it, or add *mappable* to an Axes.\n",
      "  plt.colorbar(plt.cm.ScalarMappable(cmap='plasma'), label='Accuracy Score')\n"
     ]
    },
    {
     "data": {
      "image/png": "[encoded data removed]",
      "text/plain": [
       "<Figure size 1000x600 with 2 Axes>"
      ]
     },
     "metadata": {},
     "output_type": "display_data"
    }
   ],
   "source": [
    "colors = plt.cm.plasma(np.linspace(0, 1, len(my_labels)))\n",
    "\n",
    "\n",
    "plt.figure(figsize=(10, 6))\n",
    "bars = plt.bar(my_labels, Accuracy_score, color=colors)\n",
    "\n",
    "\n",
    "for bar in bars:\n",
    "    yval = bar.get_height()\n",
    "    plt.text(bar.get_x() + bar.get_width()/2, yval, round(yval, 4), va='bottom')\n",
    "\n",
    "plt.xlabel('Algorithm')\n",
    "plt.ylabel('Model accuracy score')\n",
    "plt.title('Model Accuracy Scores')\n",
    "\n",
    "plt.colorbar(plt.cm.ScalarMappable(cmap='plasma'), label='Accuracy Score')\n",
    "\n",
    "\n",
    "plt.xticks(rotation=45)\n",
    "plt.tight_layout()\n",
    "plt.show()\n",
    "\n"
   ]
  },
  {
   "cell_type": "markdown",
   "id": "ed4032f3",
   "metadata": {},
   "source": [
    "# Applying Grid search CV for hyperparameter Tuning:\n",
    "# Parameter Tuning for Ridge:"
   ]
  },
  {
   "cell_type": "markdown",
   "id": "3acaa4ce",
   "metadata": {},
   "source": [
    "Hyperparameter tuning: \n",
    "Ridge/Lasso regression: Choosing alpha\n",
    "Hyperparameters: Parameters we specify before fitting the model\n",
    "Like alpha and n_neighbors."
   ]
  },
  {
   "cell_type": "code",
   "execution_count": 15,
   "id": "277a6eb1",
   "metadata": {},
   "outputs": [
    {
     "name": "stdout",
     "output_type": "stream",
     "text": [
      "{'alpha': 0.0001, 'solver': 'sag'} 0.9069712063614404\n",
      "0.9086786818301914\n"
     ]
    }
   ],
   "source": [
    "X = scaled_data.drop([\"LV ActivePower (kW)\"],axis=1)\n",
    "\n",
    "y = scaled_data[[\"LV ActivePower (kW)\"]]\n",
    "\n",
    "\n",
    "# Split the data\n",
    "X_train, X_test, y_train, y_test = train_test_split(X, y, test_size = 0.20, random_state = 123)\n",
    "\n",
    "kf = KFold(n_splits=5, shuffle=True, random_state=42)\n",
    "\n",
    "param_grid = {\"alpha\" : np.arange(0.0001,1,10),\n",
    "              \"solver\": [\"sag\",\"lsqr\"]}\n",
    "\n",
    "ridge = Ridge()\n",
    "ridge_cv = GridSearchCV(ridge,param_grid,cv=kf)\n",
    "ridge_cv.fit(X_train,y_train)\n",
    "\n",
    "print(ridge_cv.best_params_,ridge_cv.best_score_)\n",
    "\n",
    "test_score = ridge_cv.score(X_test,y_test)\n",
    "print(test_score)"
   ]
  },
  {
   "cell_type": "markdown",
   "id": "b11b2e4c",
   "metadata": {},
   "source": [
    "# Applying RandomizedSearchCV"
   ]
  },
  {
   "cell_type": "code",
   "execution_count": 16,
   "id": "c01ada84",
   "metadata": {},
   "outputs": [
    {
     "name": "stderr",
     "output_type": "stream",
     "text": [
      "C:\\Users\\16088\\anaconda3\\lib\\site-packages\\sklearn\\model_selection\\_search.py:307: UserWarning: The total space of parameters 2 is smaller than n_iter=10. Running 2 iterations. For exhaustive searches, use GridSearchCV.\n",
      "  warnings.warn(\n"
     ]
    },
    {
     "name": "stdout",
     "output_type": "stream",
     "text": [
      "{'solver': 'lsqr', 'alpha': 0.0001} 0.906971137844662\n",
      "0.9086782213392313\n"
     ]
    }
   ],
   "source": [
    "X = scaled_data.drop([\"LV ActivePower (kW)\"],axis=1)\n",
    "\n",
    "y = scaled_data[[\"LV ActivePower (kW)\"]]\n",
    "\n",
    "\n",
    "# Split the data\n",
    "X_train, X_test, y_train, y_test = train_test_split(X, y, test_size = 0.20, random_state = 123)\n",
    "\n",
    "kf = KFold(n_splits=5, shuffle=True, random_state=42)\n",
    "\n",
    "param_grid = {\"alpha\" : np.arange(0.0001,1,10),\n",
    "              \"solver\": [\"sag\",\"lsqr\"]}\n",
    "\n",
    "ridge = Ridge()\n",
    "ridge_cv = RandomizedSearchCV(ridge,param_grid,cv=kf)\n",
    "ridge_cv.fit(X_train,y_train)\n",
    "\n",
    "print(ridge_cv.best_params_,ridge_cv.best_score_)\n",
    "\n",
    "test_score = ridge_cv.score(X_test,y_test)\n",
    "print(test_score)"
   ]
  },
  {
   "cell_type": "markdown",
   "id": "6ef0b656",
   "metadata": {},
   "source": [
    "# Conclusion"
   ]
  },
  {
   "cell_type": "markdown",
   "id": "b2aa5bf8",
   "metadata": {},
   "source": [
    "In this project our target variable is continous variable. Because of this reason, we used regression models instead of classification models. We used these models:\n",
    "    LinearRegression\n",
    "    Random Forests\n",
    "    Support Vector Regression\n",
    "    Ridge regression\n",
    "    Lasso Regression\n",
    "We splitted the data like that %80 of the data are used for training. Our data actually involve in a time series. 0.8 is enough for training.\n",
    "We have evaluated each models in terms of model accuracy score and plotted them. The best model is  Random Forests.\n"
   ]
  },
  {
   "cell_type": "markdown",
   "id": "a620292d",
   "metadata": {},
   "source": [
    "#  Future Direction"
   ]
  },
  {
   "cell_type": "markdown",
   "id": "2b9add50",
   "metadata": {},
   "source": [
    "Here we have used only the data of one year. The model can be improved, if we can use the data from another year."
   ]
  }
 ],
 "metadata": {
  "kernelspec": {
   "display_name": "Python 3 (ipykernel)",
   "language": "python",
   "name": "python3"
  },
  "language_info": {
   "codemirror_mode": {
    "name": "ipython",
    "version": 3
   },
   "file_extension": ".py",
   "mimetype": "text/x-python",
   "name": "python",
   "nbconvert_exporter": "python",
   "pygments_lexer": "ipython3",
   "version": "3.10.9"
  }
 },
 "nbformat": 4,
 "nbformat_minor": 5
}
