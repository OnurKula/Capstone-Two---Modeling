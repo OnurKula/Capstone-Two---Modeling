{
 "cells": [
  {
   "cell_type": "code",
   "execution_count": 86,
   "id": "b395024d",
   "metadata": {},
   "outputs": [],
   "source": [
    "import numpy as np \n",
    "import pandas as pd \n",
    "import matplotlib.pyplot as plt \n",
    "import seaborn as sns\n",
    "from scipy.stats import t\n",
    "from sklearn.model_selection import train_test_split\n",
    "from sklearn import linear_model, preprocessing\n",
    "import statsmodels.api as sm\n",
    "from sklearn.preprocessing import StandardScaler\n",
    "from sklearn.model_selection import train_test_split\n",
    "from sklearn.model_selection import cross_val_score, KFold\n",
    "from sklearn.linear_model import LogisticRegression, Ridge, Lasso\n",
    "from sklearn.model_selection import GridSearchCV, RandomizedSearchCV\n",
    "from sklearn.metrics import accuracy_score\n",
    "from sklearn.ensemble import RandomForestRegressor\n",
    "from sklearn.svm import SVR"
   ]
  },
  {
   "cell_type": "code",
   "execution_count": 87,
   "id": "66a21d4b",
   "metadata": {},
   "outputs": [],
   "source": [
    "data = pd.read_csv(\"T1.csv\")"
   ]
  },
  {
   "cell_type": "code",
   "execution_count": 88,
   "id": "7ffa136c",
   "metadata": {},
   "outputs": [
    {
     "data": {
      "text/html": [
       "<div>\n",
       "<style scoped>\n",
       "    .dataframe tbody tr th:only-of-type {\n",
       "        vertical-align: middle;\n",
       "    }\n",
       "\n",
       "    .dataframe tbody tr th {\n",
       "        vertical-align: top;\n",
       "    }\n",
       "\n",
       "    .dataframe thead th {\n",
       "        text-align: right;\n",
       "    }\n",
       "</style>\n",
       "<table border=\"1\" class=\"dataframe\">\n",
       "  <thead>\n",
       "    <tr style=\"text-align: right;\">\n",
       "      <th></th>\n",
       "      <th>Date/Time</th>\n",
       "      <th>LV ActivePower (kW)</th>\n",
       "      <th>Wind Speed (m/s)</th>\n",
       "      <th>Theoretical_Power_Curve (KWh)</th>\n",
       "      <th>Wind Direction (°)</th>\n",
       "    </tr>\n",
       "  </thead>\n",
       "  <tbody>\n",
       "    <tr>\n",
       "      <th>0</th>\n",
       "      <td>01 01 2018 00:00</td>\n",
       "      <td>380.047791</td>\n",
       "      <td>5.311336</td>\n",
       "      <td>416.328908</td>\n",
       "      <td>259.994904</td>\n",
       "    </tr>\n",
       "    <tr>\n",
       "      <th>1</th>\n",
       "      <td>01 01 2018 00:10</td>\n",
       "      <td>453.769196</td>\n",
       "      <td>5.672167</td>\n",
       "      <td>519.917511</td>\n",
       "      <td>268.641113</td>\n",
       "    </tr>\n",
       "    <tr>\n",
       "      <th>2</th>\n",
       "      <td>01 01 2018 00:20</td>\n",
       "      <td>306.376587</td>\n",
       "      <td>5.216037</td>\n",
       "      <td>390.900016</td>\n",
       "      <td>272.564789</td>\n",
       "    </tr>\n",
       "    <tr>\n",
       "      <th>3</th>\n",
       "      <td>01 01 2018 00:30</td>\n",
       "      <td>419.645904</td>\n",
       "      <td>5.659674</td>\n",
       "      <td>516.127569</td>\n",
       "      <td>271.258087</td>\n",
       "    </tr>\n",
       "    <tr>\n",
       "      <th>4</th>\n",
       "      <td>01 01 2018 00:40</td>\n",
       "      <td>380.650696</td>\n",
       "      <td>5.577941</td>\n",
       "      <td>491.702972</td>\n",
       "      <td>265.674286</td>\n",
       "    </tr>\n",
       "  </tbody>\n",
       "</table>\n",
       "</div>"
      ],
      "text/plain": [
       "          Date/Time  LV ActivePower (kW)  Wind Speed (m/s)  \\\n",
       "0  01 01 2018 00:00           380.047791          5.311336   \n",
       "1  01 01 2018 00:10           453.769196          5.672167   \n",
       "2  01 01 2018 00:20           306.376587          5.216037   \n",
       "3  01 01 2018 00:30           419.645904          5.659674   \n",
       "4  01 01 2018 00:40           380.650696          5.577941   \n",
       "\n",
       "   Theoretical_Power_Curve (KWh)  Wind Direction (°)  \n",
       "0                     416.328908          259.994904  \n",
       "1                     519.917511          268.641113  \n",
       "2                     390.900016          272.564789  \n",
       "3                     516.127569          271.258087  \n",
       "4                     491.702972          265.674286  "
      ]
     },
     "execution_count": 88,
     "metadata": {},
     "output_type": "execute_result"
    }
   ],
   "source": [
    "data.head()"
   ]
  },
  {
   "cell_type": "code",
   "execution_count": 89,
   "id": "1f830d1f",
   "metadata": {},
   "outputs": [],
   "source": [
    "data = data[(data[\"Wind Speed (m/s)\"] >= 0) & (data[\"LV ActivePower (kW)\"] >= 0) & (data[\"Theoretical_Power_Curve (KWh)\"]>=0) & (data[\"Wind Direction (°)\"]>=0)]\n",
    "\n",
    "# In this part we get rid of the values which under 0 because all the data must be greater than 0 or equal to 0"
   ]
  },
  {
   "cell_type": "code",
   "execution_count": 90,
   "id": "438969d6",
   "metadata": {},
   "outputs": [],
   "source": [
    "data.drop('Date/Time', axis=1,inplace=True)"
   ]
  },
  {
   "cell_type": "code",
   "execution_count": 91,
   "id": "1086ddc3",
   "metadata": {},
   "outputs": [
    {
     "name": "stdout",
     "output_type": "stream",
     "text": [
      "   LV ActivePower (kW)  Wind Speed (m/s)  Theoretical_Power_Curve (KWh)  \\\n",
      "0            -0.707923         -0.532828                      -0.787732   \n",
      "1            -0.651752         -0.447454                      -0.712003   \n",
      "2            -0.764055         -0.555376                      -0.806322   \n",
      "3            -0.677752         -0.450410                      -0.714773   \n",
      "4            -0.707464         -0.469748                      -0.732629   \n",
      "\n",
      "   Wind Direction (°)  \n",
      "0            1.459106  \n",
      "1            1.551633  \n",
      "2            1.593621  \n",
      "3            1.579638  \n",
      "4            1.519883  \n"
     ]
    }
   ],
   "source": [
    "scaler = StandardScaler()\n",
    "\n",
    "scaled_features = scaler.fit_transform(data)\n",
    "\n",
    "scaled_data = pd.DataFrame(scaled_features,columns=data.columns)\n",
    "\n",
    "print(scaled_data.head())\n"
   ]
  },
  {
   "cell_type": "markdown",
   "id": "387491bf",
   "metadata": {},
   "source": [
    "# LinearRegression"
   ]
  },
  {
   "cell_type": "code",
   "execution_count": 92,
   "id": "7909a913",
   "metadata": {},
   "outputs": [
    {
     "name": "stdout",
     "output_type": "stream",
     "text": [
      "Accuracy: 0.9063602606208756\n",
      "****************************************************************************************************\n",
      "[0.92478984 0.91069962 0.91859473 0.8922114  0.88480445 0.90576912]\n",
      "Mean cross validation test score:  0.9061448582315724\n"
     ]
    }
   ],
   "source": [
    "from sklearn.linear_model import LinearRegression\n",
    "\n",
    "X = scaled_data.drop([\"LV ActivePower (kW)\"],axis=1)\n",
    "y = scaled_data[[\"LV ActivePower (kW)\"]]\n",
    "# Split the data\n",
    "X_train, X_test, y_train, y_test = train_test_split(X, y, test_size = 0.20, random_state = 123)\n",
    "\n",
    "# Initialize a linear regression model\n",
    "lin_reg = LinearRegression()\n",
    "\n",
    "# Fit the model to the training data\n",
    "lin_reg.fit(X_train, y_train)\n",
    "\n",
    "# Predict on the test data\n",
    "y_pred = lin_reg.predict(X_test)\n",
    "\n",
    "Accuracy_linear = lin_reg.score(X_test, y_test)\n",
    "print(\"Accuracy:\",Accuracy_linear)\n",
    "\n",
    "print(100*\"*\")\n",
    "\n",
    "kf = KFold(n_splits=6, shuffle=True, random_state=42)\n",
    "\n",
    "cv_results = cross_val_score(lin_reg,X_test,y_test,cv=kf)\n",
    "print(cv_results)\n",
    "\n",
    "print('Mean cross validation test score: ', np.mean(cv_results))\n"
   ]
  },
  {
   "cell_type": "markdown",
   "id": "e2a950de",
   "metadata": {},
   "source": [
    "The R^2 score of approximately 0.906 indicates that the linear regression model explains about 90.6% of the variance in the target variable on the test data."
   ]
  },
  {
   "cell_type": "markdown",
   "id": "112bd023",
   "metadata": {},
   "source": [
    "# Making a Linear Regression model: our second model: Ordinary Least Squares (OLS)"
   ]
  },
  {
   "cell_type": "code",
   "execution_count": 93,
   "id": "ce32ada2",
   "metadata": {},
   "outputs": [
    {
     "data": {
      "text/html": [
       "<table class=\"simpletable\">\n",
       "<caption>OLS Regression Results</caption>\n",
       "<tr>\n",
       "  <th>Dep. Variable:</th>    <td>LV ActivePower (kW)</td> <th>  R-squared:         </th> <td>   0.905</td> \n",
       "</tr>\n",
       "<tr>\n",
       "  <th>Model:</th>                    <td>OLS</td>         <th>  Adj. R-squared:    </th> <td>   0.905</td> \n",
       "</tr>\n",
       "<tr>\n",
       "  <th>Method:</th>              <td>Least Squares</td>    <th>  F-statistic:       </th> <td>1.285e+05</td>\n",
       "</tr>\n",
       "<tr>\n",
       "  <th>Date:</th>              <td>Thu, 18 Apr 2024</td>   <th>  Prob (F-statistic):</th>  <td>  0.00</td>  \n",
       "</tr>\n",
       "<tr>\n",
       "  <th>Time:</th>                  <td>14:18:13</td>       <th>  Log-Likelihood:    </th> <td> -9747.6</td> \n",
       "</tr>\n",
       "<tr>\n",
       "  <th>No. Observations:</th>       <td> 40378</td>        <th>  AIC:               </th> <td>1.950e+04</td>\n",
       "</tr>\n",
       "<tr>\n",
       "  <th>Df Residuals:</th>           <td> 40374</td>        <th>  BIC:               </th> <td>1.954e+04</td>\n",
       "</tr>\n",
       "<tr>\n",
       "  <th>Df Model:</th>               <td>     3</td>        <th>                     </th>     <td> </td>    \n",
       "</tr>\n",
       "<tr>\n",
       "  <th>Covariance Type:</th>       <td>nonrobust</td>      <th>                     </th>     <td> </td>    \n",
       "</tr>\n",
       "</table>\n",
       "<table class=\"simpletable\">\n",
       "<tr>\n",
       "                <td></td>                   <th>coef</th>     <th>std err</th>      <th>t</th>      <th>P>|t|</th>  <th>[0.025</th>    <th>0.975]</th>  \n",
       "</tr>\n",
       "<tr>\n",
       "  <th>const</th>                         <td>    0.0002</td> <td>    0.002</td> <td>    0.154</td> <td> 0.878</td> <td>   -0.003</td> <td>    0.003</td>\n",
       "</tr>\n",
       "<tr>\n",
       "  <th>Wind Speed (m/s)</th>              <td>    0.1414</td> <td>    0.005</td> <td>   30.256</td> <td> 0.000</td> <td>    0.132</td> <td>    0.151</td>\n",
       "</tr>\n",
       "<tr>\n",
       "  <th>Theoretical_Power_Curve (KWh)</th> <td>    0.8191</td> <td>    0.005</td> <td>  174.799</td> <td> 0.000</td> <td>    0.810</td> <td>    0.828</td>\n",
       "</tr>\n",
       "<tr>\n",
       "  <th>Wind Direction (°)</th>            <td>    0.0299</td> <td>    0.002</td> <td>   19.355</td> <td> 0.000</td> <td>    0.027</td> <td>    0.033</td>\n",
       "</tr>\n",
       "</table>\n",
       "<table class=\"simpletable\">\n",
       "<tr>\n",
       "  <th>Omnibus:</th>       <td>38745.469</td> <th>  Durbin-Watson:     </th>  <td>   1.998</td>  \n",
       "</tr>\n",
       "<tr>\n",
       "  <th>Prob(Omnibus):</th>  <td> 0.000</td>   <th>  Jarque-Bera (JB):  </th> <td>1521252.257</td>\n",
       "</tr>\n",
       "<tr>\n",
       "  <th>Skew:</th>           <td>-4.821</td>   <th>  Prob(JB):          </th>  <td>    0.00</td>  \n",
       "</tr>\n",
       "<tr>\n",
       "  <th>Kurtosis:</th>       <td>31.482</td>   <th>  Cond. No.          </th>  <td>    5.96</td>  \n",
       "</tr>\n",
       "</table><br/><br/>Notes:<br/>[1] Standard Errors assume that the covariance matrix of the errors is correctly specified."
      ],
      "text/latex": [
       "\\begin{center}\n",
       "\\begin{tabular}{lclc}\n",
       "\\toprule\n",
       "\\textbf{Dep. Variable:}                  & LV ActivePower (kW) & \\textbf{  R-squared:         } &      0.905   \\\\\n",
       "\\textbf{Model:}                          &         OLS         & \\textbf{  Adj. R-squared:    } &      0.905   \\\\\n",
       "\\textbf{Method:}                         &    Least Squares    & \\textbf{  F-statistic:       } &  1.285e+05   \\\\\n",
       "\\textbf{Date:}                           &   Thu, 18 Apr 2024  & \\textbf{  Prob (F-statistic):} &      0.00    \\\\\n",
       "\\textbf{Time:}                           &       14:18:13      & \\textbf{  Log-Likelihood:    } &    -9747.6   \\\\\n",
       "\\textbf{No. Observations:}               &         40378       & \\textbf{  AIC:               } &  1.950e+04   \\\\\n",
       "\\textbf{Df Residuals:}                   &         40374       & \\textbf{  BIC:               } &  1.954e+04   \\\\\n",
       "\\textbf{Df Model:}                       &             3       & \\textbf{                     } &              \\\\\n",
       "\\textbf{Covariance Type:}                &      nonrobust      & \\textbf{                     } &              \\\\\n",
       "\\bottomrule\n",
       "\\end{tabular}\n",
       "\\begin{tabular}{lcccccc}\n",
       "                                         & \\textbf{coef} & \\textbf{std err} & \\textbf{t} & \\textbf{P$> |$t$|$} & \\textbf{[0.025} & \\textbf{0.975]}  \\\\\n",
       "\\midrule\n",
       "\\textbf{const}                           &       0.0002  &        0.002     &     0.154  &         0.878        &       -0.003    &        0.003     \\\\\n",
       "\\textbf{Wind Speed (m/s)}                &       0.1414  &        0.005     &    30.256  &         0.000        &        0.132    &        0.151     \\\\\n",
       "\\textbf{Theoretical\\_Power\\_Curve (KWh)} &       0.8191  &        0.005     &   174.799  &         0.000        &        0.810    &        0.828     \\\\\n",
       "\\textbf{Wind Direction (°)}              &       0.0299  &        0.002     &    19.355  &         0.000        &        0.027    &        0.033     \\\\\n",
       "\\bottomrule\n",
       "\\end{tabular}\n",
       "\\begin{tabular}{lclc}\n",
       "\\textbf{Omnibus:}       & 38745.469 & \\textbf{  Durbin-Watson:     } &      1.998   \\\\\n",
       "\\textbf{Prob(Omnibus):} &    0.000  & \\textbf{  Jarque-Bera (JB):  } & 1521252.257  \\\\\n",
       "\\textbf{Skew:}          &   -4.821  & \\textbf{  Prob(JB):          } &       0.00   \\\\\n",
       "\\textbf{Kurtosis:}      &   31.482  & \\textbf{  Cond. No.          } &       5.96   \\\\\n",
       "\\bottomrule\n",
       "\\end{tabular}\n",
       "%\\caption{OLS Regression Results}\n",
       "\\end{center}\n",
       "\n",
       "Notes: \\newline\n",
       " [1] Standard Errors assume that the covariance matrix of the errors is correctly specified."
      ],
      "text/plain": [
       "<class 'statsmodels.iolib.summary.Summary'>\n",
       "\"\"\"\n",
       "                             OLS Regression Results                            \n",
       "===============================================================================\n",
       "Dep. Variable:     LV ActivePower (kW)   R-squared:                       0.905\n",
       "Model:                             OLS   Adj. R-squared:                  0.905\n",
       "Method:                  Least Squares   F-statistic:                 1.285e+05\n",
       "Date:                 Thu, 18 Apr 2024   Prob (F-statistic):               0.00\n",
       "Time:                         14:18:13   Log-Likelihood:                -9747.6\n",
       "No. Observations:                40378   AIC:                         1.950e+04\n",
       "Df Residuals:                    40374   BIC:                         1.954e+04\n",
       "Df Model:                            3                                         \n",
       "Covariance Type:             nonrobust                                         \n",
       "=================================================================================================\n",
       "                                    coef    std err          t      P>|t|      [0.025      0.975]\n",
       "-------------------------------------------------------------------------------------------------\n",
       "const                             0.0002      0.002      0.154      0.878      -0.003       0.003\n",
       "Wind Speed (m/s)                  0.1414      0.005     30.256      0.000       0.132       0.151\n",
       "Theoretical_Power_Curve (KWh)     0.8191      0.005    174.799      0.000       0.810       0.828\n",
       "Wind Direction (°)                0.0299      0.002     19.355      0.000       0.027       0.033\n",
       "==============================================================================\n",
       "Omnibus:                    38745.469   Durbin-Watson:                   1.998\n",
       "Prob(Omnibus):                  0.000   Jarque-Bera (JB):          1521252.257\n",
       "Skew:                          -4.821   Prob(JB):                         0.00\n",
       "Kurtosis:                      31.482   Cond. No.                         5.96\n",
       "==============================================================================\n",
       "\n",
       "Notes:\n",
       "[1] Standard Errors assume that the covariance matrix of the errors is correctly specified.\n",
       "\"\"\""
      ]
     },
     "execution_count": 93,
     "metadata": {},
     "output_type": "execute_result"
    }
   ],
   "source": [
    "X = scaled_data.drop([\"LV ActivePower (kW)\"],axis=1)\n",
    "X = sm.add_constant(X)\n",
    "y = scaled_data[[\"LV ActivePower (kW)\"]]\n",
    "\n",
    "\n",
    "# Split the data\n",
    "X_train, X_test, y_train, y_test = train_test_split(X, y, test_size = 0.20, random_state = 123)\n",
    "\n",
    "rModel = sm.OLS(y_train, X_train)\n",
    "# Fit the model\n",
    "rModel_results = rModel.fit()\n",
    "# Evaluate the model\n",
    "rModel_results.summary()"
   ]
  },
  {
   "cell_type": "markdown",
   "id": "48adcbac",
   "metadata": {},
   "source": [
    "# Random Forests"
   ]
  },
  {
   "cell_type": "code",
   "execution_count": 94,
   "id": "c9f7d5bc",
   "metadata": {},
   "outputs": [
    {
     "name": "stderr",
     "output_type": "stream",
     "text": [
      "C:\\Users\\16088\\anaconda3\\lib\\site-packages\\sklearn\\base.py:1151: DataConversionWarning: A column-vector y was passed when a 1d array was expected. Please change the shape of y to (n_samples,), for example using ravel().\n",
      "  return fit_method(estimator, *args, **kwargs)\n"
     ]
    },
    {
     "name": "stdout",
     "output_type": "stream",
     "text": [
      "Accuracy: 0.9057066175716569\n",
      "****************************************************************************************************\n"
     ]
    },
    {
     "name": "stderr",
     "output_type": "stream",
     "text": [
      "C:\\Users\\16088\\anaconda3\\lib\\site-packages\\sklearn\\base.py:1151: DataConversionWarning: A column-vector y was passed when a 1d array was expected. Please change the shape of y to (n_samples,), for example using ravel().\n",
      "  return fit_method(estimator, *args, **kwargs)\n",
      "C:\\Users\\16088\\anaconda3\\lib\\site-packages\\sklearn\\base.py:1151: DataConversionWarning: A column-vector y was passed when a 1d array was expected. Please change the shape of y to (n_samples,), for example using ravel().\n",
      "  return fit_method(estimator, *args, **kwargs)\n",
      "C:\\Users\\16088\\anaconda3\\lib\\site-packages\\sklearn\\base.py:1151: DataConversionWarning: A column-vector y was passed when a 1d array was expected. Please change the shape of y to (n_samples,), for example using ravel().\n",
      "  return fit_method(estimator, *args, **kwargs)\n",
      "C:\\Users\\16088\\anaconda3\\lib\\site-packages\\sklearn\\base.py:1151: DataConversionWarning: A column-vector y was passed when a 1d array was expected. Please change the shape of y to (n_samples,), for example using ravel().\n",
      "  return fit_method(estimator, *args, **kwargs)\n",
      "C:\\Users\\16088\\anaconda3\\lib\\site-packages\\sklearn\\base.py:1151: DataConversionWarning: A column-vector y was passed when a 1d array was expected. Please change the shape of y to (n_samples,), for example using ravel().\n",
      "  return fit_method(estimator, *args, **kwargs)\n",
      "C:\\Users\\16088\\anaconda3\\lib\\site-packages\\sklearn\\base.py:1151: DataConversionWarning: A column-vector y was passed when a 1d array was expected. Please change the shape of y to (n_samples,), for example using ravel().\n",
      "  return fit_method(estimator, *args, **kwargs)\n"
     ]
    },
    {
     "name": "stdout",
     "output_type": "stream",
     "text": [
      "[0.91669891 0.91192033 0.91103348 0.88319157 0.89382383 0.90717581]\n",
      "Mean cross validation test score:  0.9039739874816263\n"
     ]
    }
   ],
   "source": [
    "\n",
    "\n",
    "X = scaled_data.drop([\"LV ActivePower (kW)\"],axis=1)\n",
    "\n",
    "y = scaled_data[[\"LV ActivePower (kW)\"]]\n",
    "\n",
    "\n",
    "# Split the data\n",
    "X_train, X_test, y_train, y_test = train_test_split(X, y, test_size = 0.20, random_state = 123)\n",
    "\n",
    "\n",
    "# Initialize Random Forest Regressor model\n",
    "rf_reg = RandomForestRegressor()\n",
    "rf_reg.fit(X_train, y_train)\n",
    "y_pred_rf_reg = rf_reg.predict(X_test)\n",
    "\n",
    "Accuracy_random = rf_reg.score(X_test, y_test)\n",
    "\n",
    "print(\"Accuracy:\",Accuracy_random)\n",
    "\n",
    "print(100*\"*\")\n",
    "kf = KFold(n_splits=6, shuffle=True, random_state=42)\n",
    "\n",
    "cv_results = cross_val_score(rf_reg,X_test,y_test,cv=kf)\n",
    "print(cv_results)\n",
    "\n",
    "print('Mean cross validation test score: ', np.mean(cv_results))"
   ]
  },
  {
   "cell_type": "markdown",
   "id": "578d1be8",
   "metadata": {},
   "source": [
    "# Support Vector Regression"
   ]
  },
  {
   "cell_type": "code",
   "execution_count": 95,
   "id": "8e7da579",
   "metadata": {},
   "outputs": [
    {
     "name": "stderr",
     "output_type": "stream",
     "text": [
      "C:\\Users\\16088\\anaconda3\\lib\\site-packages\\sklearn\\utils\\validation.py:1184: DataConversionWarning: A column-vector y was passed when a 1d array was expected. Please change the shape of y to (n_samples, ), for example using ravel().\n",
      "  y = column_or_1d(y, warn=True)\n"
     ]
    },
    {
     "name": "stdout",
     "output_type": "stream",
     "text": [
      "Accuracy: 0.9073254638427982\n",
      "****************************************************************************************************\n"
     ]
    },
    {
     "name": "stderr",
     "output_type": "stream",
     "text": [
      "C:\\Users\\16088\\anaconda3\\lib\\site-packages\\sklearn\\utils\\validation.py:1184: DataConversionWarning: A column-vector y was passed when a 1d array was expected. Please change the shape of y to (n_samples, ), for example using ravel().\n",
      "  y = column_or_1d(y, warn=True)\n",
      "C:\\Users\\16088\\anaconda3\\lib\\site-packages\\sklearn\\utils\\validation.py:1184: DataConversionWarning: A column-vector y was passed when a 1d array was expected. Please change the shape of y to (n_samples, ), for example using ravel().\n",
      "  y = column_or_1d(y, warn=True)\n",
      "C:\\Users\\16088\\anaconda3\\lib\\site-packages\\sklearn\\utils\\validation.py:1184: DataConversionWarning: A column-vector y was passed when a 1d array was expected. Please change the shape of y to (n_samples, ), for example using ravel().\n",
      "  y = column_or_1d(y, warn=True)\n",
      "C:\\Users\\16088\\anaconda3\\lib\\site-packages\\sklearn\\utils\\validation.py:1184: DataConversionWarning: A column-vector y was passed when a 1d array was expected. Please change the shape of y to (n_samples, ), for example using ravel().\n",
      "  y = column_or_1d(y, warn=True)\n",
      "C:\\Users\\16088\\anaconda3\\lib\\site-packages\\sklearn\\utils\\validation.py:1184: DataConversionWarning: A column-vector y was passed when a 1d array was expected. Please change the shape of y to (n_samples, ), for example using ravel().\n",
      "  y = column_or_1d(y, warn=True)\n",
      "C:\\Users\\16088\\anaconda3\\lib\\site-packages\\sklearn\\utils\\validation.py:1184: DataConversionWarning: A column-vector y was passed when a 1d array was expected. Please change the shape of y to (n_samples, ), for example using ravel().\n",
      "  y = column_or_1d(y, warn=True)\n"
     ]
    },
    {
     "name": "stdout",
     "output_type": "stream",
     "text": [
      "[0.92740546 0.91160039 0.92201948 0.8937483  0.88279485 0.90539914]\n",
      "Mean cross validation test score:  0.9071612702165907\n"
     ]
    }
   ],
   "source": [
    "X = scaled_data.drop([\"LV ActivePower (kW)\"],axis=1)\n",
    "\n",
    "y = scaled_data[[\"LV ActivePower (kW)\"]]\n",
    "\n",
    "\n",
    "# Split the data\n",
    "X_train, X_test, y_train, y_test = train_test_split(X, y, test_size = 0.20, random_state = 123)\n",
    "\n",
    "# Initialize Support Vector Regressor model\n",
    "svr_reg = SVR()\n",
    "svr_reg.fit(X_train, y_train)\n",
    "\n",
    "y_pred_svr_reg = svr_reg.predict(X_test)\n",
    "\n",
    "Accuracy_support = svr_reg.score(X_test, y_test)\n",
    "\n",
    "print(\"Accuracy:\",Accuracy_support)\n",
    "\n",
    "print(100*\"*\")\n",
    "kf = KFold(n_splits=6, shuffle=True, random_state=42)\n",
    "\n",
    "cv_results = cross_val_score(svr_reg,X_test,y_test,cv=kf)\n",
    "print(cv_results)\n",
    "\n",
    "print('Mean cross validation test score: ', np.mean(cv_results))"
   ]
  },
  {
   "cell_type": "markdown",
   "id": "1f4e7e8d",
   "metadata": {},
   "source": [
    "# Ridge regression"
   ]
  },
  {
   "cell_type": "code",
   "execution_count": 96,
   "id": "31f91042",
   "metadata": {},
   "outputs": [
    {
     "name": "stdout",
     "output_type": "stream",
     "text": [
      "[0.9063602632582332, 0.9063602844258494, 0.9063602439509687, 0.9063366270487329, 0.9049453446070965]\n",
      "Max_score: 0.9063602844258494\n"
     ]
    }
   ],
   "source": [
    "X = scaled_data.drop([\"LV ActivePower (kW)\"],axis=1)\n",
    "\n",
    "y = scaled_data[[\"LV ActivePower (kW)\"]]\n",
    "\n",
    "\n",
    "# Split the data\n",
    "X_train, X_test, y_train, y_test = train_test_split(X, y, test_size = 0.20, random_state = 123)\n",
    "\n",
    "scores = []\n",
    "\n",
    "for i in [0.1, 1, 10, 100, 1000]:\n",
    "    \n",
    "    ridge = Ridge(alpha=i)\n",
    "    ridge.fit(X_train,y_train)\n",
    "    y_pred = ridge.predict(X_test)\n",
    "    scores.append(ridge.score(X_test,y_test))\n",
    "    \n",
    "print(scores)\n",
    "\n",
    "# if i = 1, we take the best result\n",
    "\n",
    "Accuracy_ridge = max(scores)\n",
    "\n",
    "print(\"Max_score:\",max(scores))\n"
   ]
  },
  {
   "cell_type": "markdown",
   "id": "627f43f6",
   "metadata": {},
   "source": [
    "# Lasso Regression"
   ]
  },
  {
   "cell_type": "code",
   "execution_count": 97,
   "id": "fe851939",
   "metadata": {},
   "outputs": [
    {
     "name": "stdout",
     "output_type": "stream",
     "text": [
      "[0.8951841269063548, -6.267660608250125e-05, -6.267660608250125e-05, -6.267660608250125e-05, -6.267660608250125e-05]\n",
      "Max_score: 0.8951841269063548\n"
     ]
    }
   ],
   "source": [
    "X = scaled_data.drop([\"LV ActivePower (kW)\"],axis=1)\n",
    "\n",
    "y = scaled_data[[\"LV ActivePower (kW)\"]]\n",
    "\n",
    "\n",
    "# Split the data\n",
    "X_train, X_test, y_train, y_test = train_test_split(X, y, test_size = 0.20, random_state = 123)\n",
    "\n",
    "scores = []\n",
    "\n",
    "for i in [0.1, 1, 10, 100, 1000]:\n",
    "    \n",
    "    lasso = Lasso(alpha=i)\n",
    "    lasso.fit(X_train,y_train)\n",
    "    y_pred = lasso.predict(X_test)\n",
    "    scores.append(lasso.score(X_test,y_test))\n",
    "print(scores)\n",
    "\n",
    "Accuracy_lasso = max(scores)\n",
    "\n",
    "print(\"Max_score:\",max(scores))"
   ]
  },
  {
   "cell_type": "markdown",
   "id": "b98d1d82",
   "metadata": {},
   "source": [
    "# 7.Comparison of the models"
   ]
  },
  {
   "cell_type": "code",
   "execution_count": 100,
   "id": "a6a5f8c4",
   "metadata": {},
   "outputs": [
    {
     "name": "stdout",
     "output_type": "stream",
     "text": [
      "                   Algorithm  Model accuracy score\n",
      "0           LinearRegression              0.906360\n",
      "1             Random Forests              0.905707\n",
      "2  Support Vector Regression              0.907325\n",
      "3           Ridge regression              0.906360\n",
      "4           Lasso Regression              0.895184\n"
     ]
    }
   ],
   "source": [
    "my_labels = [\"LinearRegression\",\"Random Forests\",\"Support Vector Regression\",\"Ridge regression\",\"Lasso Regression\"]\n",
    "Accuracy_score = [Accuracy_linear,Accuracy_random,Accuracy_support,Accuracy_ridge,Accuracy_lasso]\n",
    "\n",
    "score_tab_acc = pd.DataFrame(list(zip(my_labels, Accuracy_score)), \n",
    "               columns =['Algorithm', 'Model accuracy score']) \n",
    "print(score_tab_acc)"
   ]
  },
  {
   "cell_type": "code",
   "execution_count": 101,
   "id": "57d23d5e",
   "metadata": {},
   "outputs": [
    {
     "name": "stderr",
     "output_type": "stream",
     "text": [
      "C:\\Users\\16088\\AppData\\Local\\Temp\\ipykernel_11464\\2341945298.py:16: MatplotlibDeprecationWarning: Unable to determine Axes to steal space for Colorbar. Using gca(), but will raise in the future. Either provide the *cax* argument to use as the Axes for the Colorbar, provide the *ax* argument to steal space from it, or add *mappable* to an Axes.\n",
      "  plt.colorbar(plt.cm.ScalarMappable(cmap='plasma'), label='Accuracy Score')\n"
     ]
    },
    {
     "data": {
      "image/png": "[encoded data removed]",
      "text/plain": [
       "<Figure size 1000x600 with 2 Axes>"
      ]
     },
     "metadata": {},
     "output_type": "display_data"
    }
   ],
   "source": [
    "colors = plt.cm.plasma(np.linspace(0, 1, len(my_labels)))\n",
    "\n",
    "\n",
    "plt.figure(figsize=(10, 6))\n",
    "bars = plt.bar(my_labels, Accuracy_score, color=colors)\n",
    "\n",
    "\n",
    "for bar in bars:\n",
    "    yval = bar.get_height()\n",
    "    plt.text(bar.get_x() + bar.get_width()/2, yval, round(yval, 4), va='bottom')\n",
    "\n",
    "plt.xlabel('Algorithm')\n",
    "plt.ylabel('Model accuracy score')\n",
    "plt.title('Model Accuracy Scores')\n",
    "\n",
    "plt.colorbar(plt.cm.ScalarMappable(cmap='plasma'), label='Accuracy Score')\n",
    "\n",
    "\n",
    "plt.xticks(rotation=45)\n",
    "plt.tight_layout()\n",
    "plt.show()\n",
    "\n"
   ]
  },
  {
   "cell_type": "markdown",
   "id": "ed4032f3",
   "metadata": {},
   "source": [
    "# Applying Grid search CV for hyperparameter Tuning:\n",
    "# Parameter Tuning for Ridge:"
   ]
  },
  {
   "cell_type": "markdown",
   "id": "3acaa4ce",
   "metadata": {},
   "source": [
    "Hyperparameter tuning: \n",
    "Ridge/Lasso regression: Choosing alpha\n",
    "Hyperparameters: Parameters we specify before fitting the model\n",
    "Like alpha and n_neighbors."
   ]
  },
  {
   "cell_type": "code",
   "execution_count": 102,
   "id": "277a6eb1",
   "metadata": {},
   "outputs": [
    {
     "name": "stdout",
     "output_type": "stream",
     "text": [
      "{'alpha': 0.0001, 'solver': 'lsqr'} 0.9051485001612816\n",
      "0.9063602606235416\n"
     ]
    }
   ],
   "source": [
    "X = scaled_data.drop([\"LV ActivePower (kW)\"],axis=1)\n",
    "\n",
    "y = scaled_data[[\"LV ActivePower (kW)\"]]\n",
    "\n",
    "\n",
    "# Split the data\n",
    "X_train, X_test, y_train, y_test = train_test_split(X, y, test_size = 0.20, random_state = 123)\n",
    "\n",
    "kf = KFold(n_splits=5, shuffle=True, random_state=42)\n",
    "\n",
    "param_grid = {\"alpha\" : np.arange(0.0001,1,10),\n",
    "              \"solver\": [\"sag\",\"lsqr\"]}\n",
    "\n",
    "ridge = Ridge()\n",
    "ridge_cv = GridSearchCV(ridge,param_grid,cv=kf)\n",
    "ridge_cv.fit(X_train,y_train)\n",
    "\n",
    "print(ridge_cv.best_params_,ridge_cv.best_score_)\n",
    "\n",
    "test_score = ridge_cv.score(X_test,y_test)\n",
    "print(test_score)"
   ]
  },
  {
   "cell_type": "markdown",
   "id": "b11b2e4c",
   "metadata": {},
   "source": [
    "# Applying RandomizedSearchCV"
   ]
  },
  {
   "cell_type": "code",
   "execution_count": 103,
   "id": "c01ada84",
   "metadata": {},
   "outputs": [
    {
     "name": "stderr",
     "output_type": "stream",
     "text": [
      "C:\\Users\\16088\\anaconda3\\lib\\site-packages\\sklearn\\model_selection\\_search.py:307: UserWarning: The total space of parameters 2 is smaller than n_iter=10. Running 2 iterations. For exhaustive searches, use GridSearchCV.\n",
      "  warnings.warn(\n"
     ]
    },
    {
     "name": "stdout",
     "output_type": "stream",
     "text": [
      "{'solver': 'lsqr', 'alpha': 0.0001} 0.9051485001612816\n",
      "0.9063602606235416\n"
     ]
    }
   ],
   "source": [
    "X = scaled_data.drop([\"LV ActivePower (kW)\"],axis=1)\n",
    "\n",
    "y = scaled_data[[\"LV ActivePower (kW)\"]]\n",
    "\n",
    "\n",
    "# Split the data\n",
    "X_train, X_test, y_train, y_test = train_test_split(X, y, test_size = 0.20, random_state = 123)\n",
    "\n",
    "kf = KFold(n_splits=5, shuffle=True, random_state=42)\n",
    "\n",
    "param_grid = {\"alpha\" : np.arange(0.0001,1,10),\n",
    "              \"solver\": [\"sag\",\"lsqr\"]}\n",
    "\n",
    "ridge = Ridge()\n",
    "ridge_cv = RandomizedSearchCV(ridge,param_grid,cv=kf)\n",
    "ridge_cv.fit(X_train,y_train)\n",
    "\n",
    "print(ridge_cv.best_params_,ridge_cv.best_score_)\n",
    "\n",
    "test_score = ridge_cv.score(X_test,y_test)\n",
    "print(test_score)"
   ]
  },
  {
   "cell_type": "markdown",
   "id": "6ef0b656",
   "metadata": {},
   "source": [
    "# Conclusion"
   ]
  },
  {
   "cell_type": "markdown",
   "id": "b2aa5bf8",
   "metadata": {},
   "source": [
    "In this project our target variable is continous variable. Because of this reason, we used regression models instead of classification models. We used these models:\n",
    "    LinearRegression\n",
    "    Random Forests\n",
    "    Support Vector Regression\n",
    "    Ridge regression\n",
    "    Lasso Regression\n",
    "We splitted the data like that %80 of the data are used for training. Our data actually involve in a time series. 0.8 is enough for training.\n",
    "We have evaluated each models in terms of model accuracy score and plotted them. The best model is Support Vector Regression.\n"
   ]
  },
  {
   "cell_type": "markdown",
   "id": "a620292d",
   "metadata": {},
   "source": [
    "#  Future Direction"
   ]
  },
  {
   "cell_type": "markdown",
   "id": "2b9add50",
   "metadata": {},
   "source": [
    "Here we have used only the data of one year. The model can be improved, if we can use the data from another year."
   ]
  }
 ],
 "metadata": {
  "kernelspec": {
   "display_name": "Python 3 (ipykernel)",
   "language": "python",
   "name": "python3"
  },
  "language_info": {
   "codemirror_mode": {
    "name": "ipython",
    "version": 3
   },
   "file_extension": ".py",
   "mimetype": "text/x-python",
   "name": "python",
   "nbconvert_exporter": "python",
   "pygments_lexer": "ipython3",
   "version": "3.10.9"
  }
 },
 "nbformat": 4,
 "nbformat_minor": 5
}
